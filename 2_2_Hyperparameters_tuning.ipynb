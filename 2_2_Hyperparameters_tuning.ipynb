{
  "nbformat": 4,
  "nbformat_minor": 0,
  "metadata": {
    "colab": {
      "name": "2_2_Hyperparameters_tuning.ipynb",
      "provenance": [],
      "collapsed_sections": [],
      "include_colab_link": true
    },
    "kernelspec": {
      "name": "python3",
      "display_name": "Python 3"
    },
    "language_info": {
      "name": "python"
    },
    "accelerator": "GPU"
  },
  "cells": [
    {
      "cell_type": "markdown",
      "metadata": {
        "id": "view-in-github",
        "colab_type": "text"
      },
      "source": [
        "<a href=\"https://colab.research.google.com/github/salmasamiei/From_Shallow_to_Deep/blob/main/2_2_Hyperparameters_tuning.ipynb\" target=\"_parent\"><img src=\"https://colab.research.google.com/assets/colab-badge.svg\" alt=\"Open In Colab\"/></a>"
      ]
    },
    {
      "cell_type": "markdown",
      "metadata": {
        "id": "xHxb-dlhMIzW"
      },
      "source": [
        "## Overview\n",
        "\n",
        "The Keras Tuner is a library that helps you pick the optimal set of hyperparameters for your TensorFlow program. The process of selecting the right set of hyperparameters for your machine learning (ML) application is called *hyperparameter tuning* or *hypertuning*.\n",
        "\n",
        "Hyperparameters are the variables that govern the training process and the topology of an ML model. These variables remain constant over the training process and directly impact the performance of your ML program. Hyperparameters are of two types:\n",
        "1. **Model hyperparameters** which influence model selection such as the number and width of hidden layers\n",
        "2. **Algorithm hyperparameters** which influence the speed and quality of the learning algorithm such as the learning rate for Stochastic Gradient Descent (SGD) and the number of nearest neighbors for a k Nearest Neighbors (KNN) classifier\n",
        "\n",
        "In this tutorial, you will use the Keras Tuner to perform hypertuning for an image classification application."
      ]
    },
    {
      "cell_type": "code",
      "source": [
        "#Import libraries\n",
        "import os\n",
        "import cv2\n",
        "import random\n",
        "import numpy as np\n",
        "from sklearn.model_selection import train_test_split\n",
        "import tensorflow as tf\n",
        "from tensorflow import keras\n",
        "\n",
        "from tensorflow.keras.models import Sequential # Model type to be used\n",
        "from tensorflow.keras.layers import Dense, Activation, Dropout# Make Fully connected (FC) layers\n",
        "from tensorflow.keras.utils import to_categorical # NumPy related tools\n",
        "from tensorflow.keras.layers import Conv2D, MaxPooling2D, Flatten"
      ],
      "metadata": {
        "id": "HgmzN1lFKjWk"
      },
      "execution_count": null,
      "outputs": []
    },
    {
      "cell_type": "code",
      "metadata": {
        "colab": {
          "base_uri": "https://localhost:8080/"
        },
        "id": "sDOVKdaJgaRB",
        "outputId": "c0b8e905-a72a-491c-92b8-e30eecec67fe"
      },
      "source": [
        "from google.colab import drive\n",
        "root = '/content/gdrive/'\n",
        "drive.mount( root )"
      ],
      "execution_count": null,
      "outputs": [
        {
          "output_type": "stream",
          "name": "stdout",
          "text": [
            "Mounted at /content/gdrive/\n"
          ]
        }
      ]
    },
    {
      "cell_type": "code",
      "metadata": {
        "id": "T6o98dJhgeMz"
      },
      "source": [
        "!unzip gdrive/My\\ Drive/data_Iran/101_ObjectCategories.zip"
      ],
      "execution_count": null,
      "outputs": []
    },
    {
      "cell_type": "code",
      "metadata": {
        "colab": {
          "base_uri": "https://localhost:8080/"
        },
        "id": "n14vJSb4jiB3",
        "outputId": "d1355d57-cdd6-45d0-c795-67c46c6485ef"
      },
      "source": [
        "DATADIR = \"101_ObjectCategories\"\n",
        "CATEGORIES = os.listdir(DATADIR)\n",
        "print(CATEGORIES)"
      ],
      "execution_count": null,
      "outputs": [
        {
          "output_type": "stream",
          "name": "stdout",
          "text": [
            "['pigeon', 'scorpion', 'rhino', 'flamingo_head', 'schooner', 'okapi', 'beaver', 'airplanes', 'stop_sign', 'laptop', 'ant', 'dragonfly', 'brain', 'sunflower', 'Motorbikes', 'bass', 'rooster', 'butterfly', 'hawksbill', 'garfield', 'pagoda', 'ketch', 'nautilus', 'pizza', 'flamingo', 'camera', 'headphone', 'llama', 'wild_cat', 'octopus', 'wrench', 'lobster', 'soccer_ball', 'electric_guitar', 'inline_skate', 'cannon', 'crocodile', 'windsor_chair', 'trilobite', 'hedgehog', 'crab', 'mayfly', 'ibis', 'tick', 'lamp', 'crocodile_head', 'pyramid', 'joshua_tree', 'crayfish', 'cougar_body', 'saxophone', 'platypus', 'dollar_bill', 'binocular', 'dalmatian', 'emu', 'menorah', 'helicopter', 'dolphin', 'wheelchair', 'minaret', 'Faces_easy', 'mandolin', 'cougar_face', 'metronome', 'strawberry', 'stegosaurus', 'euphonium', 'elephant', 'BACKGROUND_Google', 'revolver', 'sea_horse', 'chandelier', 'Leopards', 'car_side', 'gerenuk', 'buddha', 'snoopy', 'ewer', 'chair', 'ceiling_fan', 'yin_yang', 'lotus', 'brontosaurus', 'gramophone', 'barrel', 'accordion', 'watch', 'cup', 'cellphone', 'anchor', 'panda', 'stapler', 'umbrella', 'water_lilly', 'bonsai', 'starfish', 'grand_piano', 'scissors', 'kangaroo', 'ferry', 'Faces']\n"
          ]
        }
      ]
    },
    {
      "cell_type": "code",
      "source": [
        "CATEGORIES = ['BACKGROUND_Google', 'Motorbikes', 'airplanes', 'Faces_easy', 'Faces']\n",
        "print(CATEGORIES)"
      ],
      "metadata": {
        "id": "UpLQbHgNMosq",
        "outputId": "a734ec5e-55c3-4b1d-cd30-74030855ba92",
        "colab": {
          "base_uri": "https://localhost:8080/"
        }
      },
      "execution_count": null,
      "outputs": [
        {
          "output_type": "stream",
          "name": "stdout",
          "text": [
            "['BACKGROUND_Google', 'Motorbikes', 'airplanes', 'Faces_easy', 'Faces']\n"
          ]
        }
      ]
    },
    {
      "cell_type": "code",
      "metadata": {
        "id": "lyJ-fyinlNlT"
      },
      "source": [
        "training_data = []\n",
        "IMG_SIZE_H=224 # you need to set up a numerical value here. Useful to resize to normalize data size\n",
        "IMG_SIZE_W=224 # you need to set up a numerical value here. Useful to resize to normalize data size\n",
        "def create_training_data():\n",
        "    for category in CATEGORIES:  # do plants and weeds\n",
        "\n",
        "        path = os.path.join(DATADIR,category)  # create path to the labels\n",
        "        class_num = CATEGORIES.index(category)  # get the classification  (0 or a 1). 0=plants 1=weeds\n",
        "\n",
        "        for img in os.listdir(path):  # iterate over each image per plants and weeds\n",
        "          if img.endswith('.jpg'):\n",
        "            img_array = cv2.imread(os.path.join(path,img))  # convert to array \n",
        "            new_array = cv2.resize(img_array, (IMG_SIZE_H, IMG_SIZE_W))  # resize to normalize data size\n",
        "            training_data.append([new_array, class_num])  # add this to our training_data\n"
      ],
      "execution_count": null,
      "outputs": []
    },
    {
      "cell_type": "code",
      "metadata": {
        "colab": {
          "base_uri": "https://localhost:8080/"
        },
        "id": "q74Y7_QzlaGr",
        "outputId": "d63253e9-561b-4898-8d91-5e08209dd986"
      },
      "source": [
        "create_training_data()  # Calling the function for reading images and labels\n",
        "print(len(training_data)) # Printing the size of the database"
      ],
      "execution_count": null,
      "outputs": [
        {
          "output_type": "stream",
          "name": "stdout",
          "text": [
            "2935\n"
          ]
        }
      ]
    },
    {
      "cell_type": "markdown",
      "metadata": {
        "id": "7e7Oa3lXpSOA"
      },
      "source": [
        "Preparation of data for importing to Keras"
      ]
    },
    {
      "cell_type": "code",
      "metadata": {
        "colab": {
          "base_uri": "https://localhost:8080/"
        },
        "id": "QcALEpico-eS",
        "outputId": "9028b581-9a1f-4323-d508-73351b97a71b"
      },
      "source": [
        "random.shuffle(training_data)\n",
        "X = []  # An Array for images\n",
        "y = []  # An Array for labels\n",
        "\n",
        "for features,label in training_data:   # Seperation of iamegs and labels\n",
        "    X.append(features)\n",
        "    y.append(label)\n",
        "print(np.array(X).shape) # Print the size of the database"
      ],
      "execution_count": null,
      "outputs": [
        {
          "output_type": "stream",
          "name": "stdout",
          "text": [
            "(2935, 224, 224, 3)\n"
          ]
        }
      ]
    },
    {
      "cell_type": "code",
      "metadata": {
        "colab": {
          "base_uri": "https://localhost:8080/"
        },
        "id": "GRyYO9SUpdug",
        "outputId": "ac41fada-59e0-4db5-d84a-39558da8ccb3"
      },
      "source": [
        "X = np.array(X).reshape(-1, IMG_SIZE_H, IMG_SIZE_W, 3)  # Reshape data in a form that is suitable for keras\n",
        "print(X.shape) # Print the size of the database"
      ],
      "execution_count": null,
      "outputs": [
        {
          "output_type": "stream",
          "name": "stdout",
          "text": [
            "(2935, 224, 224, 3)\n"
          ]
        }
      ]
    },
    {
      "cell_type": "code",
      "metadata": {
        "id": "UYXc34napn9n"
      },
      "source": [
        "X_train, X_test, y_train, y_test = train_test_split(X, y, test_size=0.3)"
      ],
      "execution_count": null,
      "outputs": []
    },
    {
      "cell_type": "code",
      "metadata": {
        "id": "LyugMSBellom"
      },
      "source": [
        "import matplotlib.pyplot as plt\n",
        "from matplotlib.pyplot import imshow"
      ],
      "execution_count": null,
      "outputs": []
    },
    {
      "cell_type": "code",
      "metadata": {
        "id": "LDJONvqup8Px"
      },
      "source": [
        "# Display 3 images \n",
        "plt.subplot(131)\n",
        "plt.imshow(X[0,:,:,:])\n",
        "plt.axis(\"off\")\n",
        "plt.subplot(132)\n",
        "plt.imshow(X[10,:,:,:])\n",
        "plt.axis(\"off\")\n",
        "plt.subplot(133)\n",
        "plt.imshow(X[1000,:,:,:]) \n",
        "plt.axis(\"off\")\n",
        "# show the plot\n",
        "plt.show()"
      ],
      "execution_count": null,
      "outputs": []
    },
    {
      "cell_type": "code",
      "metadata": {
        "id": "-VuttSwGDQdB"
      },
      "source": [
        "# normalize data\n",
        "X_train = X_train.astype('float32') / 255.\n",
        "X_test = X_test.astype('float32') / 255.\n",
        "# one hot encode outputs\n",
        "y_train = to_categorical(y_train)\n",
        "y_test = to_categorical(y_test)"
      ],
      "execution_count": null,
      "outputs": []
    },
    {
      "cell_type": "code",
      "source": [
        "def build_model(hp):\n",
        "    # create model object\n",
        "    model = keras.Sequential([\n",
        "    #adding first convolutional layer    \n",
        "    Conv2D(\n",
        "        #adding filter \n",
        "        filters=hp.Int('conv_1_filter', min_value=32, max_value=64, step=16),\n",
        "        # adding filter size or kernel size\n",
        "        kernel_size=hp.Choice('conv_1_kernel', values = [3,5]),\n",
        "        #activation function\n",
        "        activation='relu',\n",
        "        input_shape=(224,224,3)),\n",
        "    MaxPooling2D(pool_size=(2, 2)),\n",
        "    # adding second convolutional layer \n",
        "    Conv2D(\n",
        "        #adding filter \n",
        "        filters=hp.Int('conv_2_filter', min_value=64, max_value=128, step=16),\n",
        "        #adding filter size or kernel size\n",
        "        kernel_size=hp.Choice('conv_2_kernel', values = [3,5]),\n",
        "        #activation function\n",
        "        activation='relu'\n",
        "    ),\n",
        "    MaxPooling2D(pool_size=(2, 2)),\n",
        "\n",
        "    # adding second convolutional layer \n",
        "    Conv2D(\n",
        "        #adding filter \n",
        "        filters=hp.Int('conv_2_filter', min_value=64, max_value=128, step=16),\n",
        "        #adding filter size or kernel size\n",
        "        kernel_size=hp.Choice('conv_2_kernel', values = [3,5]),\n",
        "        #activation function\n",
        "        activation='relu'\n",
        "    ),\n",
        "    MaxPooling2D(pool_size=(2, 2)),\n",
        "\n",
        "    # adding second convolutional layer \n",
        "    Conv2D(\n",
        "        #adding filter \n",
        "        filters=hp.Int('conv_2_filter', min_value=64, max_value=128, step=16),\n",
        "        #adding filter size or kernel size\n",
        "        kernel_size=hp.Choice('conv_2_kernel', values = [3,5]),\n",
        "        #activation function\n",
        "        activation='relu'\n",
        "    ),\n",
        "    MaxPooling2D(pool_size=(2, 2)),\n",
        "\n",
        "    # adding flatten layer    \n",
        "    keras.layers.Flatten(),\n",
        "    # adding dense layer    \n",
        "    keras.layers.Dense(\n",
        "        units=hp.Int('dense_1_units', min_value=32, max_value=128, step=16),\n",
        "        activation='relu'\n",
        "    ),\n",
        "    # output layer    \n",
        "    keras.layers.Dense(5, activation='softmax')\n",
        "    ])\n",
        "    #compilation of model\n",
        "    model.compile(optimizer=keras.optimizers.Adam(hp.Choice('learning_rate', values=[1e-2, 1e-3])),\n",
        "              loss='categorical_crossentropy',\n",
        "              metrics=['accuracy'])\n",
        "    return model"
      ],
      "metadata": {
        "id": "7aBfdMnxGd_3"
      },
      "execution_count": null,
      "outputs": []
    },
    {
      "cell_type": "code",
      "source": [
        "!pip install -q -U keras-tuner"
      ],
      "metadata": {
        "colab": {
          "base_uri": "https://localhost:8080/"
        },
        "id": "ERUOjzyYHW_V",
        "outputId": "618d5fb7-fe71-4713-8792-6a416c6d6a5d"
      },
      "execution_count": null,
      "outputs": [
        {
          "output_type": "stream",
          "name": "stdout",
          "text": [
            "\u001b[?25l\r\u001b[K     |███▍                            | 10 kB 19.4 MB/s eta 0:00:01\r\u001b[K     |██████▊                         | 20 kB 12.1 MB/s eta 0:00:01\r\u001b[K     |██████████                      | 30 kB 9.6 MB/s eta 0:00:01\r\u001b[K     |█████████████▍                  | 40 kB 8.6 MB/s eta 0:00:01\r\u001b[K     |████████████████▊               | 51 kB 4.5 MB/s eta 0:00:01\r\u001b[K     |████████████████████            | 61 kB 5.2 MB/s eta 0:00:01\r\u001b[K     |███████████████████████▍        | 71 kB 5.6 MB/s eta 0:00:01\r\u001b[K     |██████████████████████████▊     | 81 kB 5.8 MB/s eta 0:00:01\r\u001b[K     |██████████████████████████████  | 92 kB 6.3 MB/s eta 0:00:01\r\u001b[K     |████████████████████████████████| 98 kB 3.6 MB/s \n",
            "\u001b[?25h"
          ]
        }
      ]
    },
    {
      "cell_type": "code",
      "source": [
        "#importing random search\n",
        "import keras_tuner as kt\n",
        "#from keras-tuner import RandomSearch\n",
        "#creating randomsearch object\n",
        "tuner = kt.RandomSearch(build_model,\n",
        "                    objective='val_accuracy',\n",
        "                    max_trials = 5)\n",
        "# search best parameter\n",
        "tuner.search(X_train,y_train,epochs=3,validation_data=(X_test,y_test))"
      ],
      "metadata": {
        "colab": {
          "base_uri": "https://localhost:8080/"
        },
        "id": "hDC8gPxKGjKW",
        "outputId": "0134dcee-4260-4bc1-821d-f1cbad7f9f52"
      },
      "execution_count": null,
      "outputs": [
        {
          "output_type": "stream",
          "name": "stdout",
          "text": [
            "Trial 5 Complete [00h 01m 23s]\n",
            "val_accuracy: 0.2860386073589325\n",
            "\n",
            "Best val_accuracy So Far: 0.9194097518920898\n",
            "Total elapsed time: 00h 06m 09s\n",
            "INFO:tensorflow:Oracle triggered exit\n"
          ]
        }
      ]
    },
    {
      "cell_type": "code",
      "source": [
        "model=tuner.get_best_models(num_models=1)[0]\n",
        "#summary of best model\n",
        "model.summary()"
      ],
      "metadata": {
        "colab": {
          "base_uri": "https://localhost:8080/"
        },
        "id": "8PaAeDsiGnHt",
        "outputId": "adb50aca-533b-4b08-8c11-42fccfbf5941"
      },
      "execution_count": null,
      "outputs": [
        {
          "output_type": "stream",
          "name": "stdout",
          "text": [
            "Model: \"sequential\"\n",
            "_________________________________________________________________\n",
            " Layer (type)                Output Shape              Param #   \n",
            "=================================================================\n",
            " conv2d (Conv2D)             (None, 220, 220, 32)      2432      \n",
            "                                                                 \n",
            " max_pooling2d (MaxPooling2D  (None, 110, 110, 32)     0         \n",
            " )                                                               \n",
            "                                                                 \n",
            " conv2d_1 (Conv2D)           (None, 108, 108, 80)      23120     \n",
            "                                                                 \n",
            " max_pooling2d_1 (MaxPooling  (None, 54, 54, 80)       0         \n",
            " 2D)                                                             \n",
            "                                                                 \n",
            " conv2d_2 (Conv2D)           (None, 52, 52, 80)        57680     \n",
            "                                                                 \n",
            " max_pooling2d_2 (MaxPooling  (None, 26, 26, 80)       0         \n",
            " 2D)                                                             \n",
            "                                                                 \n",
            " conv2d_3 (Conv2D)           (None, 24, 24, 80)        57680     \n",
            "                                                                 \n",
            " max_pooling2d_3 (MaxPooling  (None, 12, 12, 80)       0         \n",
            " 2D)                                                             \n",
            "                                                                 \n",
            " flatten (Flatten)           (None, 11520)             0         \n",
            "                                                                 \n",
            " dense (Dense)               (None, 128)               1474688   \n",
            "                                                                 \n",
            " dense_1 (Dense)             (None, 5)                 645       \n",
            "                                                                 \n",
            "=================================================================\n",
            "Total params: 1,616,245\n",
            "Trainable params: 1,616,245\n",
            "Non-trainable params: 0\n",
            "_________________________________________________________________\n"
          ]
        }
      ]
    },
    {
      "cell_type": "code",
      "metadata": {
        "id": "bH9KNpw-FMZP"
      },
      "source": [
        "! pip install livelossplot\n",
        "from livelossplot import PlotLossesKeras\n",
        "plotlosses = PlotLossesKeras()"
      ],
      "execution_count": null,
      "outputs": []
    },
    {
      "cell_type": "code",
      "metadata": {
        "id": "eool4avfx5Eq"
      },
      "source": [
        "early_stop = tf.keras.callbacks.EarlyStopping(\n",
        "    monitor='val_loss', patience=10, verbose=1, mode='auto') #Stop training when a monitored metric has stopped improving.\n",
        "\n",
        "checkpoint_filepath = 'checkpointCNN.h5'\n",
        "Model_check = tf.keras.callbacks.ModelCheckpoint(\n",
        "    checkpoint_filepath, monitor='val_loss', verbose=1, save_best_only=True, mode='auto') #Callback to save the Keras model or model weights at some frequency."
      ],
      "execution_count": null,
      "outputs": []
    },
    {
      "cell_type": "code",
      "metadata": {
        "id": "S2kzBiLRE3Hw"
      },
      "source": [
        "model.fit(X_train, y_train, \n",
        "          validation_split=0.3,\n",
        "          epochs=50, batch_size=32,\n",
        "          verbose=1,\n",
        "          callbacks=[plotlosses,early_stop, Model_check])"
      ],
      "execution_count": null,
      "outputs": []
    },
    {
      "cell_type": "code",
      "source": [
        "model_New_load = tf.keras.models.load_model('checkpointCNN.h5')\n",
        "loss, accuracy = model_New_load.evaluate(X_test, y_test, verbose=0) #Evaluation of the model on the test dataset\n",
        "print('Test loss:', loss)\n",
        "print('Test accuracy:', accuracy)"
      ],
      "metadata": {
        "colab": {
          "base_uri": "https://localhost:8080/"
        },
        "id": "3ZHplKZENneF",
        "outputId": "2723ede2-1a43-432d-c47a-5215cbdff060"
      },
      "execution_count": null,
      "outputs": [
        {
          "output_type": "stream",
          "name": "stdout",
          "text": [
            "WARNING:tensorflow:Error in loading the saved optimizer state. As a result, your model is starting with a freshly initialized optimizer.\n",
            "Test loss: 0.21717216074466705\n",
            "Test accuracy: 0.9421112537384033\n"
          ]
        }
      ]
    }
  ]
}